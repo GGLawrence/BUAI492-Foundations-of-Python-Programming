{
 "cells": [
  {
   "cell_type": "code",
   "execution_count": 7,
   "id": "c143de37",
   "metadata": {},
   "outputs": [],
   "source": [
    "#### Exercise 1. What, if anything, is wrong with each of the following variable names? （5 points'）\n",
    "'''\n",
    "a. True_False      True\n",
    "b. 3rdperson       False, reason: Variable name cannot start with a number\n",
    "c. str             True\n",
    "d. R2.D2           False, reason: Variable names cannot use \".\"\n",
    "e. my list         False, reason: Variable names cannot use spaces\n",
    "\n",
    "'''"
   ]
  },
  {
   "cell_type": "code",
   "execution_count": null,
   "id": "5fa23449",
   "metadata": {},
   "outputs": [],
   "source": [
    "#### Exercise 2. Answer the subsequent questions about the following Python statements recalling \n",
    "#### that integers are immutable: (5 points)\n",
    "'''\n",
    "First = 8; x = id(First); Second = First; print(Second);\n",
    "First = 9; print(Second); y = id(First); \n",
    "a. What values do the two print statements produce?\n",
    "\n",
    "the outcome of the first \"print(Second)\" is 8;\n",
    "\n",
    "the outcome of the second \"print(Second)\" is 8;\n",
    "\n",
    "b. Are the values of x and y the same?\n",
    "\n",
    "x and y is not same; \n",
    "\n",
    "'''"
   ]
  },
  {
   "cell_type": "code",
   "execution_count": null,
   "id": "edfc33a2",
   "metadata": {},
   "outputs": [],
   "source": [
    "#### Exercise 3. Repeat Exercise 2 assuming that integers are mutable. (5 points)\n",
    "'''\n",
    "the outcome of the first \"print(Second)\" is 8;\n",
    "\n",
    "the outcome of the second \"print(Second)\" is 9;\n",
    "\n",
    "the values of x and y is same;\n",
    "'''"
   ]
  },
  {
   "cell_type": "code",
   "execution_count": 38,
   "id": "48aab4e3",
   "metadata": {},
   "outputs": [
    {
     "name": "stdout",
     "output_type": "stream",
     "text": [
      "<class 'int'>\n",
      "True\n",
      "False\n",
      "<class 'str'>\n"
     ]
    }
   ],
   "source": [
    "#### Exercise 4. What do each of the following print statements produce? (5 points)\n",
    "'''\n",
    "A, B = 1, 1; \n",
    "print(type(A)); \n",
    "C = float(A); \n",
    "print(id(A) == id(B));\n",
    "print(id(C) == id(B)); \n",
    "C = '1.1'; \n",
    "print(type(C))\n",
    "'''\n",
    "#####\n",
    "### True\n",
    "### False\n"
   ]
  },
  {
   "cell_type": "code",
   "execution_count": 27,
   "id": "d82a9aaf",
   "metadata": {},
   "outputs": [
    {
     "name": "stdout",
     "output_type": "stream",
     "text": [
      "Please input the number of seat:165\n",
      "Error input!!!\n"
     ]
    }
   ],
   "source": [
    "#### Exercise 5.\n",
    "'''\n",
    "Write a program that gets the value for the integer variable seat from the user. Then\n",
    "use only one assignment statement and NO OTHER STATEMENTS to compute and display \n",
    "the value of the integer variable group according to the following rule (in which you can assume \n",
    "that the value entered by the user never exceeds 52): (10 points)\n",
    "1, if 1 ≤ seat ≤ 13\n",
    "2, if 14 ≤ seat ≤ 26\n",
    "3, if 27 ≤ seat ≤ 39\n",
    "4, if 40 ≤ seat ≤ 52\n",
    "\n",
    "'''\n",
    "\n",
    "Seat = int(input(\"Please input the number of seat:\"))\n",
    "if Seat >= 1 and Seat <= 13:\n",
    "    print(\"The group 1\")\n",
    "elif Seat >= 14 and Seat <= 26:   \n",
    "    print(\"The group 2\")\n",
    "elif Seat >= 27 and Seat <= 39:   \n",
    "    print(\"The group 3\")\n",
    "elif Seat >= 40 and Seat <= 52:   \n",
    "    print(\"The group 4\")\n",
    "else:\n",
    "    print(\"Error input!!!\")\n",
    "\n"
   ]
  },
  {
   "cell_type": "code",
   "execution_count": 4,
   "id": "2fff67b3",
   "metadata": {},
   "outputs": [
    {
     "name": "stdout",
     "output_type": "stream",
     "text": [
      "Please input the number of minutes:1805\n",
      "30 hours and 5 minutes\n"
     ]
    }
   ],
   "source": [
    "#### Exercise 6.\n",
    "'''\n",
    "Write a program that gets the number of minutes an event has been going on from \n",
    "the user. Without using an if-statement, convert those minutes into hours and minutes and \n",
    "display the results. For example, if an event has been going on for 315 minutes, then you should \n",
    "convert this to 5 hours and 15 minutes. (10 points) \n",
    "'''\n",
    "minutes = int(input(\"Please input the number of minutes:\"))\n",
    "Convert_Hours = int(minutes/60)\n",
    "Convert_Minutes = minutes % 60\n",
    "Convert_Time = [Convert_Hours, Convert_Minutes]\n",
    "print(Convert_Time[0],\"hours and\",Convert_Time[1],\"minutes\")"
   ]
  },
  {
   "cell_type": "code",
   "execution_count": 39,
   "id": "71c40f71",
   "metadata": {},
   "outputs": [
    {
     "name": "stdout",
     "output_type": "stream",
     "text": [
      "Please input the money that you want to invest:1400\n",
      "42.0 42.0\n",
      "The investment of a can help you earn 42.0 dollars and the investment of b can help you earn 42.0 dollars.\n",
      "Because a_Earnmoney: 42.0 dollars is equal to b_Earnmoney: 42.0 dollars, a and b investment can help you earn the same.\n"
     ]
    }
   ],
   "source": [
    "####Exercise 7.\n",
    "'''\n",
    "Ms. Smith is in a 30-percent tax bracket, which means that 30 cents of each dollar \n",
    "she earns is paid in taxes. She has some money that she can invest in either (a) a money market \n",
    "fund that pays 4% annual interest on the first $1000 and 5% on any amount over $1000 or (b) a \n",
    "government bond that pays 3% annual interest but is exempt from taxes. Write a program that \n",
    "obtains the amount of money to invest and determines which of these two investments is better, \n",
    "after taxes. Indicate how much the better investment will earn after taxes at the end of one year, \n",
    "with two digits after the decimal point. (Hint: Find out how to do this on the web.) (10 points)\n",
    "'''\n",
    "money = float(input(\"Please input the money that you want to invest:\"))\n",
    "#### a investment\n",
    "if money <= 1000 and money >= 0:\n",
    "    a_Earnmoney = money * 0.04 * (1 - 0.3)\n",
    "else: \n",
    "    a_Earnmoney = 1000 * 0.04 * (1-0.3) + (money - 1000) * 0.05 * (1 - 0.3)\n",
    "#### b investment\n",
    "b_Earnmoney = money * 0.03\n",
    "\n",
    "a = round(a_Earnmoney,2)\n",
    "b = round(b_Earnmoney,2)\n",
    "print(a,b)\n",
    "print(\"The investment of a can help you earn\",a,\"dollars and the investment of b can help you earn\",b,\"dollars.\")\n",
    "if a_Earnmoney > b_Earnmoney:\n",
    "    print(\"Because a_Earnmoney:\",a,\"dollars is more than b_Earnmoney:\",b,\"dollars, the better investment is a investment.\")\n",
    "elif a_Earnmoney == b_Earnmoney:\n",
    "    print(\"Because a_Earnmoney:\",a,\"dollars is equal to b_Earnmoney:\",b,\"dollars, a and b investment can help you earn the same.\")\n",
    "else:\n",
    "    print(\"Because a_Earnmoney:\",a,\" dollars is less than b_Earnmoney:\",b,\"dollars, the better investment is b investment.\")"
   ]
  },
  {
   "cell_type": "code",
   "execution_count": 3,
   "id": "ce76d8b5",
   "metadata": {},
   "outputs": [],
   "source": [
    "#### Exercise 8.\n",
    "'''\n",
    "a. Identify two data structures you learned in class that you might use to represent a date. \n",
    "For each one, show how you would store March 15, 2019 in the variable MyDate.\n",
    "b. When would you use each of the data structures from part (a)?\n",
    "c. List at least three operations (unary or binary) that you might want to perform on dates.\n",
    "(You do NOT need to write these operations in Python.)\n",
    "'''\n",
    "#### a\n",
    "MyDate = [3,15,2019]\n",
    "MyDate = (3,15,2019)\n",
    "\n",
    "#### b\n",
    "#### If I don't wanna change the Date, I will choose the tuple.\n",
    "#### If I wanna chage the Date, I will choose the list.\n",
    "\n",
    "#### c\n",
    "#### 1: get dinner time\n",
    "#### 2: computer arrival time\n",
    "#### 3: convert Chinese Time to American Time"
   ]
  },
  {
   "cell_type": "code",
   "execution_count": 6,
   "id": "9ebd4c59",
   "metadata": {},
   "outputs": [
    {
     "name": "stdout",
     "output_type": "stream",
     "text": [
      "['x ** 3 - 2 * x + 4']\n",
      "two polynomials are not the same\n"
     ]
    }
   ],
   "source": [
    "#### Exercise 9.\n",
    "'''\n",
    "a. Identify a data structure you learned in class to represent a polynomial and illustrate how \n",
    "you would store the polynomial x3 – 2x + 4.\n",
    "b. List at least two operations (unary or binary) that you might want to perform on \n",
    "polynomials besides +, –, and *. (You do NOT need to write these operations in Python.)\n",
    "c. Use your data structure in part (a) to write a program to determine if two polynomials are \n",
    "the same. (Hint: Use a built-in method for your data structure to do this.)\n",
    "'''\n",
    "### a\n",
    "polynomial_1 = [\"x ** 3 - 2 * x + 4\"]\n",
    "print(polynomial_1)\n",
    "### b\n",
    "## **, math.sqrt()\n",
    "\n",
    "### c\n",
    "polynomial_2 = [\"x ** 5 + 10 * x + 1006\"]\n",
    "if polynomial_1 == polynomial_2:\n",
    "    print(\"two polynomials are the same\")\n",
    "else:\n",
    "    print(\"two polynomials are not the same\")\n"
   ]
  },
  {
   "cell_type": "code",
   "execution_count": null,
   "id": "f9d90ac3",
   "metadata": {},
   "outputs": [],
   "source": [
    "#### Exercise 10. \n",
    "'''\n",
    "Consider an inventory problem, in which a company stores the following \n",
    "information on each item: the SKU number (for example, K13145), price, delivery lead time (in \n",
    "days), quality (low, medium, high), and number of units in inventory for one item. If you were to \n",
    "store this in a tuple, what type of value would each element of such a tuple be? (5 points)\n",
    "\n",
    "Like this tuple: Item_information(SKU_num, price, delivery_lead_time, quality, unit_num)\n",
    "                      type of value\n",
    "SKU_num                  str\n",
    "price                    float\n",
    "delivery_lead_time       int\n",
    "quality                  tuple(String, String, String)\n",
    "unit_num                 int\n",
    "\n",
    "'''"
   ]
  },
  {
   "cell_type": "code",
   "execution_count": null,
   "id": "d8f15ac0",
   "metadata": {},
   "outputs": [],
   "source": [
    "#### Exercise 11.\n",
    "'''\n",
    "What are the range of ASCII integers associated with the characters ‘0’. ‘1’. …’9’? \n",
    "\n",
    "the characters: 0   1   2   3   4   5   6   7   8   9\n",
    "ASCII integers: 48  49  50  51  52  53  54  55  56  57\n",
    "\n",
    "\n",
    "What are the range of characters associated with the ASCII integers 65, 66, …, 90? (5 points)\n",
    "ASCII integers: 65, 66, ..., 90\n",
    "the characters: A , B , ..., Z\n",
    "\n",
    "'''"
   ]
  },
  {
   "cell_type": "code",
   "execution_count": 36,
   "id": "f533bfe6",
   "metadata": {},
   "outputs": [
    {
     "name": "stdout",
     "output_type": "stream",
     "text": [
      "Please input the information of playing card:13H\n",
      "the values entered constitute a valid card!\n"
     ]
    }
   ],
   "source": [
    "#### Exercise 12.\n",
    "'''\n",
    "A deck of playing cards consists of 52 cards arranged in four suits (clubs, diamonds, hearts, and spades) each having 13 face values (1 = ace, 2, 3, …, 10, 11 = jack, 12 = queen, 13 = king). \n",
    "For the computer, the suits are represented by the strings ‘C’, ‘D’, ‘H’, ‘S’, respectively, and the face values are represented by the integers 1, 2, …, 13, respectively.\n",
    "Write a program that creates a set of valid suits, then asks the user to enter a card in the format of a face value followed by a suit with no separating space (for example, 6S) \n",
    "and determines if the values entered constitute a valid card or not. (10 points)\n",
    "\n",
    "'''\n",
    "Deck = {'1C','2C','3C','4C','5C','6C','7C','8C','9C','10C','11C','12C','13C','1D','2D','3D','4D','5D','6D','7D','8D','9D','10D','11D','12D','13D','1H','2H','3H','4H','5H','6H''7H','8H','9H','10H','11H','12H','13H','1S','2S','3S','4S','5S','6S','7S','8S','9S','10S','11S','12S','13S'}\n",
    "Card = str(input(\"Please input the information of playing card:\"))\n",
    "if(Card in Deck):\n",
    "    print(\"the values entered constitute a valid card!\")\n",
    "else:\n",
    "    print(\"the values entered constitute a invalid card!\")   \n"
   ]
  },
  {
   "cell_type": "code",
   "execution_count": null,
   "id": "cac03820",
   "metadata": {},
   "outputs": [],
   "source": []
  }
 ],
 "metadata": {
  "kernelspec": {
   "display_name": "Python 3 (ipykernel)",
   "language": "python",
   "name": "python3"
  },
  "language_info": {
   "codemirror_mode": {
    "name": "ipython",
    "version": 3
   },
   "file_extension": ".py",
   "mimetype": "text/x-python",
   "name": "python",
   "nbconvert_exporter": "python",
   "pygments_lexer": "ipython3",
   "version": "3.9.12"
  }
 },
 "nbformat": 4,
 "nbformat_minor": 5
}
