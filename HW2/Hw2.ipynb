{
 "cells": [
  {
   "cell_type": "code",
   "execution_count": 13,
   "id": "6b5fe0cc",
   "metadata": {},
   "outputs": [],
   "source": [
    "### Exercise 1. What does the print statement in the following function circle produce? What does\n",
    "### the print statement in the main program produce? Explain why this happens. (5 points)"
   ]
  },
  {
   "cell_type": "code",
   "execution_count": 14,
   "id": "45f6d8f3",
   "metadata": {},
   "outputs": [
    {
     "name": "stdout",
     "output_type": "stream",
     "text": [
      "12.56636\n",
      "0.0\n"
     ]
    }
   ],
   "source": [
    "def circle(radius, circumference):\n",
    "    pi = 3.14159; \n",
    "    circumference = 2 * pi * radius;\n",
    "    print(circumference)\n",
    "    return circumference\n",
    "#Main program starts here.\n",
    "circumference = 0.0\n",
    "circle(2, circumference)\n",
    "print(circumference)"
   ]
  },
  {
   "cell_type": "code",
   "execution_count": 15,
   "id": "efb07b4c",
   "metadata": {},
   "outputs": [],
   "source": [
    "####1: The print statement in function circle produce the circumference of a circle of radius 2, which is 12.56636.\n",
    "\n",
    "####2: The print statement in the main program produce 0.0\n",
    "\n",
    "####3: \n",
    "#### Firstly, the main function initializes the circumference to 0.0, and calls circle function \n",
    "\n",
    "#### Then this \"circle(radius, circumference)\" have 2 parameters that this function can use radius \n",
    "#### and circumference to calculate the outcome of circumference of circle and print it, which use the formula “C = 2 π r”.\n",
    "#### We can get the outcome of the circumference of one circle with 2 radius and print \"12.56636\" from this function circle.\n",
    "#### But this circumference is local variable which can just play its role in this circle fucntion. \n",
    "\n",
    "#### Finally, the main funciton print the circumference 0.0.\n",
    "#### This cricumference is from the main function which is not equal to the return of the function of circle(radius, circumference)."
   ]
  },
  {
   "cell_type": "code",
   "execution_count": 16,
   "id": "781f683f",
   "metadata": {},
   "outputs": [],
   "source": [
    "#### Exercise 2. Write a function called area that computes and returns the area of the circle whose\n",
    "#### radius is an input parameter. Include a main program that gets the radius from the user, calls the\n",
    "#### function, and displays the results. (5 points)"
   ]
  },
  {
   "cell_type": "code",
   "execution_count": 1,
   "id": "8ed2fbd5",
   "metadata": {},
   "outputs": [
    {
     "name": "stdout",
     "output_type": "stream",
     "text": [
      "Please input the radius of one circle: 8\n",
      "The area of radius = 8.0 is 201.06176\n"
     ]
    },
    {
     "data": {
      "text/plain": [
       "201.06176"
      ]
     },
     "execution_count": 1,
     "metadata": {},
     "output_type": "execute_result"
    }
   ],
   "source": [
    "def area(radius):\n",
    "    Area = 3.14159 * radius * radius\n",
    "    print(\"The area of radius =\",radius,\"is\",Area)\n",
    "    return Area\n",
    "#### Main function\n",
    "radius = float(input(\"Please input the radius of one circle: \"))\n",
    "area(radius)"
   ]
  },
  {
   "cell_type": "code",
   "execution_count": 18,
   "id": "ca18d999",
   "metadata": {},
   "outputs": [],
   "source": [
    "# Exercise 3. Write two functions called IsEven1 and IsEven2 that return the value 1 if a given\n",
    "# positive integer is even and 0 otherwise, as follows: (10 points)\n",
    "# IsEven1: Using only one assignment statement and the mod operator %.\n",
    "# IsEven2: Using only one assignment statement but not the mod operator %."
   ]
  },
  {
   "cell_type": "code",
   "execution_count": 1,
   "id": "b598c3c4",
   "metadata": {},
   "outputs": [
    {
     "name": "stdout",
     "output_type": "stream",
     "text": [
      "enter number=877\n",
      "0\n",
      "enter number=888\n",
      "1\n"
     ]
    },
    {
     "data": {
      "text/plain": [
       "1"
      ]
     },
     "execution_count": 1,
     "metadata": {},
     "output_type": "execute_result"
    }
   ],
   "source": [
    "#question1\n",
    "def IsEven1(n):\n",
    "    n=(int(n)+1) % 2\n",
    "    print(n)\n",
    "    return n\n",
    "n=input('enter number=')\n",
    "IsEven1(n)\n",
    "\n",
    "#question2\n",
    "def IsEven2(n):\n",
    "    while int(n)>=2:\n",
    "        n=int(n-2)\n",
    "    print(n)\n",
    "    return n\n",
    "\n",
    "n=int(input('enter number='))+1\n",
    "IsEven2(n)"
   ]
  },
  {
   "cell_type": "code",
   "execution_count": 37,
   "id": "a58e2ba3",
   "metadata": {},
   "outputs": [],
   "source": [
    "# Exercise 4. Write a program that asks the user for a date in the form dd/mm and then uses a for\n",
    "# loop to compute and displays the number of days since the beginning of the year to the given\n",
    "# date. For example, the date 05/02 should produce 36. You can assume that February has 28 days.\n",
    "# (Hint: Create a tuple that contains the number of days in each of the 12 months.) (15 points)"
   ]
  },
  {
   "cell_type": "code",
   "execution_count": 48,
   "id": "84b40d5f",
   "metadata": {},
   "outputs": [
    {
     "name": "stdout",
     "output_type": "stream",
     "text": [
      "Please input given days using the dd/mm type:05/02\n",
      "SumDays: 36\n"
     ]
    }
   ],
   "source": [
    "def DaysInDate(Date): \n",
    "    NowDays = int(Date[0:2])\n",
    "    NowMonths = int(Date[-2:])\n",
    "    All_Month = (31,28,31,30,31,30,31,31,30,31,30,31)\n",
    "    SumDays = 0\n",
    "    for k in range(0,NowMonths - 1):\n",
    "        SumDays = SumDays + All_Month[k]\n",
    "        #k = k + 1\n",
    "    SumDays = SumDays + NowDays\n",
    "    print(\"SumDays:\",SumDays)\n",
    "\n",
    "######## Main Function\n",
    "Date = input(\"Please input given days using the dd/mm type:\")\n",
    "DaysInDate(Date)"
   ]
  },
  {
   "cell_type": "code",
   "execution_count": 42,
   "id": "f731ed70",
   "metadata": {},
   "outputs": [],
   "source": [
    "# Exercise 5. Write a program that asks the user for a real number x and then computes the\n",
    "# following formula for finding the value of ex\n",
    "# :\n",
    "# 𝑒𝑒𝑥𝑥 = 1 + 𝑥𝑥 + 𝑥𝑥2\n",
    "# 2!\n",
    "# + 𝑥𝑥3\n",
    "# 3!\n",
    "# + ⋯\n",
    "# Continue adding terms in the series so long as abs(xn / n!) > 10-7\n",
    "# . (15 points)"
   ]
  },
  {
   "cell_type": "code",
   "execution_count": 27,
   "id": "02bb9a18",
   "metadata": {},
   "outputs": [
    {
     "name": "stdout",
     "output_type": "stream",
     "text": [
      "put in a number:1\n",
      "2.7182818011463845\n"
     ]
    }
   ],
   "source": [
    "def factorial(n):\n",
    "    k=1\n",
    "    for i in range(1,n+1):\n",
    "        k=i*k\n",
    "    return k\n",
    "\n",
    "\n",
    "n = 0\n",
    "ex = 0\n",
    "x=float(input('put in a number:'))\n",
    "\n",
    "while abs(x ** n / factorial(n))  > 0.0000001:\n",
    "\n",
    "    ex=float((x ** n) / int(factorial(n)))+ex\n",
    "    # print(ex)\n",
    "    n+=1\n",
    "print(ex)"
   ]
  },
  {
   "cell_type": "code",
   "execution_count": 44,
   "id": "d7066086",
   "metadata": {},
   "outputs": [],
   "source": [
    "# Exercise 6. The subscript of a Python list must be an integer or a slice. The purpose of this\n",
    "# exercise is to write a function called SubList that allows the user to obtain elements of a list by\n",
    "# providing a separate list of desired subscripts. For example, if the original list is [12, 20, 24, 16]\n",
    "# and the user wants elements whose subscripts are in the list [1, 3], then the function SubList\n",
    "# should return [20, 16]. Write the function SubList that does this (your function should work for\n",
    "# all inputs). Include a main program that calls the function and prints the values of the original list\n",
    "# and the sublist. (15 points)\n"
   ]
  },
  {
   "cell_type": "code",
   "execution_count": 28,
   "id": "2d599ed5",
   "metadata": {},
   "outputs": [
    {
     "name": "stdout",
     "output_type": "stream",
     "text": [
      "Please input your List separated by comma 111,222,888,999,666,2,0\n",
      "The original list is [111, 222, 888, 999, 666, 2, 0]\n",
      "Please input your List number that you want to know separated by comma 2,4\n",
      "The subscripts is [2, 4]\n",
      "The sublist is [888, 666]\n"
     ]
    }
   ],
   "source": [
    "def SubList(original_list,subscripts):\n",
    "    SubList = [int(original_list[subscripts[j]]) for j in range(len(subscripts))]\n",
    "    print(\"The sublist is\",SubList)\n",
    "    return\n",
    "###### Main function\n",
    "List1 = input(\"Please input your List separated by comma \")\n",
    "List11  = List1.split(\",\")\n",
    "List11 = [int(List11[i]) for i in range(len(List11))]\n",
    "### the values of the original list\n",
    "print(\"The original list is\",List11)\n",
    "List2 = input(\"Please input your List number that you want to know separated by comma \")\n",
    "List22  = List2.split(\",\")\n",
    "List22 = [int(List22[k]) for k in range(len(List22))]\n",
    "### subscripts\n",
    "print(\"The subscripts is\",List22)\n",
    "### the function SubList\n",
    "SubList(List11,List22)\n"
   ]
  },
  {
   "cell_type": "code",
   "execution_count": 82,
   "id": "0039b792",
   "metadata": {},
   "outputs": [],
   "source": [
    "# Exercise 7. Given an existing EXCEL file, write functions CountRows and CountCols that use\n",
    "# the package openpyxl to perform each of the following tasks (make the worksheet variable an\n",
    "# input parameter):\n",
    "# a. Given the row and column numbers of a starting cell with a value in it, return the\n",
    "# number of consecutive nonempty cells to the right of (and including) the starting cell,\n",
    "# until finding the first empty cell.\n",
    "# b. Given the row and column numbers of a starting cell with a value in it, return the\n",
    "# number of consecutive nonempty cells below (and including) the starting cell, until\n",
    "# finding the first empty cell.\n",
    "# Include a main program that asks the user to enter the location and name of the EXCEL file and\n",
    "# then allows the user to enter the row and column numbers of a starting cell and reports the\n",
    "# number of consecutive cells both to the right and also below the starting cell. (20 points)"
   ]
  },
  {
   "cell_type": "code",
   "execution_count": 29,
   "id": "f30cfdee",
   "metadata": {},
   "outputs": [
    {
     "name": "stdout",
     "output_type": "stream",
     "text": [
      "Please enter the location and name of the EXCEL file:D:\\\\Exercise7.xlsx\n",
      "File opened successfully!\n",
      "Please input the number of row: 2\n",
      "Please input the number of col: 2\n",
      "Consecutive Rows have 3 and Consecutive Columns have 10\n"
     ]
    }
   ],
   "source": [
    "def CountRows(row,col,ws):\n",
    "    name = ws.cell(row,col).value\n",
    "    num = 0\n",
    "    while name != None:\n",
    "        row = row + 1\n",
    "        num = num + 1\n",
    "        name = ws.cell(row,col).value\n",
    "    return num\n",
    "\n",
    "def CountCols(row,col,ws):\n",
    "    name = ws.cell(row,col).value\n",
    "    num = 0\n",
    "    while name != None:\n",
    "        col = col + 1\n",
    "        num = num + 1\n",
    "        name = ws.cell(row,col).value\n",
    "    return num\n",
    "    \n",
    "##### Main function\n",
    "import sys\n",
    "from openpyxl import load_workbook\n",
    "####loc = 'D:\\\\Exercise7.xlsx'\n",
    "loc = input(\"Please enter the location and name of the EXCEL file:\")\n",
    "try:\n",
    "    wb = load_workbook(loc)\n",
    "    print('File opened successfully!')\n",
    "except:\n",
    "    sys.exit('Unable to open the file.')\n",
    "ws = wb['Sheet1']\n",
    "Row = int(input(\"Please input the number of row: \"))\n",
    "Col = int(input(\"Please input the number of col: \"))\n",
    "print(\"Consecutive Rows have\",CountRows(Row,Col,ws),\"and Consecutive Columns have\",CountCols(Row,Col,ws))"
   ]
  },
  {
   "cell_type": "code",
   "execution_count": 84,
   "id": "f1833e35",
   "metadata": {},
   "outputs": [],
   "source": [
    "# Exercise 8. Write a program to perform the following tasks given the data of a Transportation\n",
    "# Problem (TP) that is stored in the EXCEL file CCCTransp.xlsx. (Note: Your program should\n",
    "# work not just for the 3 plants and 3 customer in the file CCCTransp.xlsx but for any number up\n",
    "# to 25 plants and 25 customers.) (25 points)\n",
    "# a. Get the directory and name of the file from the user.\n",
    "# b. Count and store the number of plants (rows) and number of customers (columns) (this\n",
    "# would be 3 and 3 in the sample file). You can assume the data always start in cell B4.\n",
    "# c. For each row, store a formula (which is a string) for the row sum in the column\n",
    "# immediately to the left of the column labeled “Supplies,” which will always be 3 columns\n",
    "# to the right of the last customer (column F in the sample file)\n",
    "# d. For each column, store a formula for the column sum in the row immediately above the\n",
    "# row labeled “Demands,” (row 8 in the sample file) which will always be 3 rows below\n",
    "# the last plant."
   ]
  },
  {
   "cell_type": "code",
   "execution_count": 23,
   "id": "65f533c9",
   "metadata": {},
   "outputs": [
    {
     "name": "stdout",
     "output_type": "stream",
     "text": [
      "Please enter the location and name of the EXCEL file:C:\\Users\\Cuiziming\\Desktop\\test3.xlsx\n",
      "File opened successfully!\n",
      "The table have  9 rows and  5 cols\n",
      "row = 4 column = 8 store the formula which is =sum(B4:F4)\n",
      "row = 5 column = 8 store the formula which is =sum(B5:F5)\n",
      "row = 6 column = 8 store the formula which is =sum(B6:F6)\n",
      "row = 7 column = 8 store the formula which is =sum(B7:F7)\n",
      "row = 8 column = 8 store the formula which is =sum(B8:F8)\n",
      "row = 9 column = 8 store the formula which is =sum(B9:F9)\n",
      "row = 10 column = 8 store the formula which is =sum(B10:F10)\n",
      "row = 11 column = 8 store the formula which is =sum(B11:F11)\n",
      "row = 12 column = 8 store the formula which is =sum(B12:F12)\n",
      "Store Col formula finished!!!!\n",
      "9 5\n",
      "row = 14 column = 2 store the formula which is =sum(B4:B12)\n",
      "row = 14 column = 3 store the formula which is =sum(C4:C12)\n",
      "row = 14 column = 4 store the formula which is =sum(D4:D12)\n",
      "row = 14 column = 5 store the formula which is =sum(E4:E12)\n",
      "row = 14 column = 6 store the formula which is =sum(F4:F12)\n",
      "Store Row formula finished!!!!\n"
     ]
    }
   ],
   "source": [
    "def CountRows(row,col,ws):\n",
    "    name = ws.cell(row,col).value\n",
    "    num = 0\n",
    "    while name != None:\n",
    "        row = row + 1\n",
    "        num = num + 1\n",
    "        name = ws.cell(row,col).value\n",
    "    return num\n",
    "\n",
    "def CountCols(row,col,ws):\n",
    "    name = ws.cell(row,col).value\n",
    "    num = 0\n",
    "    while name != None:\n",
    "        col = col + 1\n",
    "        num = num + 1\n",
    "        name = ws.cell(row,col).value\n",
    "    return num\n",
    "\n",
    "def store_Col_formula(r,c,ws):\n",
    "    ASCII_LetterTable = 'ABCDEFGHIJKLMNOPQRSTUVWXYZ'\n",
    "    j = CountRows(r,c,ws)\n",
    "    k = CountCols(r,c,ws)\n",
    "    #sumformula = '=sum(B4:D4)'\n",
    "    start_col = ASCII_LetterTable[c - 1]\n",
    "    end_col = chr(ord(start_col) + k -1)\n",
    "    m = r\n",
    "    while (m <= r + j - 1): \n",
    "        ws.cell(row = m, column = c + k -1 + 2).value = '=sum(' + start_col + str(m) + ':' + end_col + str(m) + ')'\n",
    "        print(\"row =\",m,\"column =\",c + k -1 + 2,\"store the formula which is\",ws.cell(row = m, column = c + k -1 + 2).value)\n",
    "        m = m + 1\n",
    "    return\n",
    "\n",
    "def store_Row_formula(r,c,ws):\n",
    "    ASCII_LetterTable = 'ABCDEFGHIJKLMNOPQRSTUVWXYZ'\n",
    "    j = CountRows(r,c,ws)\n",
    "    k = CountCols(r,c,ws)\n",
    "    print(j,k)\n",
    "    #sumformula = '=sum(B4:B6)'\n",
    "    start_row = r\n",
    "    end_row = r + j -1\n",
    "    m = c\n",
    "    while (m <= c + k -1): \n",
    "        #print('=sum(' + ASCII_LetterTable[m - 1] + str(r) + ':' + ASCII_LetterTable[m - 1] + str(end_row) + ')')\n",
    "        ws.cell(row = end_row + 2, column = m).value = '=sum(' + str(ASCII_LetterTable[m - 1]) + str(r) + ':' + ASCII_LetterTable[m - 1] + str(end_row) + ')'\n",
    "        print(\"row =\",end_row + 2,\"column =\",m,\"store the formula which is\",ws.cell(row = end_row + 2, column = m).value)\n",
    "        #print(m,c+k-1)\n",
    "        #print(c,k)\n",
    "        m = m + 1\n",
    "    return\n",
    "\n",
    "##### Main function\n",
    "import sys\n",
    "from openpyxl import load_workbook\n",
    "####loc = 'D:\\CWRU_Study\\BUAI492 Found of Python Programming\\ExcelFiles\\CCCTransp.xlsx'\n",
    "####loc = 'C:\\Users\\Cuiziming\\Desktop\\CCCTransp.xlsx'\n",
    "loc = input(\"Please enter the location and name of the EXCEL file:\")\n",
    "try:\n",
    "    wb = load_workbook(loc)\n",
    "    print('File opened successfully!')\n",
    "except:\n",
    "    sys.exit('Unable to open the file.')\n",
    "ws = wb['Sheet1']\n",
    "# Row = int(input(\"Please input the number of row: \"))\n",
    "# Col = int(input(\"Please input the number of col: \"))\n",
    "# Assume the data always start in cell B4\n",
    "j = CountRows(4,2,ws)\n",
    "k = CountCols(4,2,ws)\n",
    "print(\"The table have \",j,\"rows and \",k,\"cols\")\n",
    "store_Col_formula(4,2,ws)\n",
    "print(\"Store Col formula finished!!!!\")\n",
    "store_Row_formula(4,2,ws)\n",
    "print(\"Store Row formula finished!!!!\")\n",
    "wb.save(loc)\n"
   ]
  },
  {
   "cell_type": "code",
   "execution_count": null,
   "id": "96dcaf80",
   "metadata": {},
   "outputs": [],
   "source": []
  },
  {
   "cell_type": "code",
   "execution_count": null,
   "id": "bdf0482c",
   "metadata": {},
   "outputs": [],
   "source": []
  }
 ],
 "metadata": {
  "kernelspec": {
   "display_name": "Python 3 (ipykernel)",
   "language": "python",
   "name": "python3"
  },
  "language_info": {
   "codemirror_mode": {
    "name": "ipython",
    "version": 3
   },
   "file_extension": ".py",
   "mimetype": "text/x-python",
   "name": "python",
   "nbconvert_exporter": "python",
   "pygments_lexer": "ipython3",
   "version": "3.9.12"
  }
 },
 "nbformat": 4,
 "nbformat_minor": 5
}
